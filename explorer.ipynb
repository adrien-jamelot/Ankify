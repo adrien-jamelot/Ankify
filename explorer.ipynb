{
  "nbformat": 4,
  "nbformat_minor": 0,
  "metadata": {
    "colab": {
      "provenance": [],
      "authorship_tag": "ABX9TyPy6Y6P8Z7JpLGcm177bd2D"
    },
    "kernelspec": {
      "name": "python3",
      "display_name": "Python 3"
    },
    "language_info": {
      "name": "python"
    }
  },
  "cells": [
    {
      "cell_type": "code",
      "execution_count": null,
      "metadata": {
        "id": "m7_PZEtKVfib"
      },
      "outputs": [],
      "source": []
    }
  ]
}